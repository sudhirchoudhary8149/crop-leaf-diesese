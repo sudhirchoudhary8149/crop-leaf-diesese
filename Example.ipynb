{
 "cells": [
  {
   "cell_type": "code",
   "execution_count": 2,
   "id": "6f2d1ca5",
   "metadata": {},
   "outputs": [],
   "source": [
    "import cv2\n",
    "from matplotlib import pyplot as plt\n",
    "import os\n",
    "import numpy as np\n",
    "from tensorflow.keras.preprocessing.image import load_img\n",
    "from tensorflow.keras.preprocessing.image import img_to_array\n",
    "from tensorflow.keras.models import load_model"
   ]
  },
  {
   "cell_type": "code",
   "execution_count": 14,
   "id": "b388c78b",
   "metadata": {},
   "outputs": [
    {
     "name": "stdout",
     "output_type": "stream",
     "text": [
      "<keras.engine.sequential.Sequential object at 0x0000018359A80880>\n",
      "Model Loaded Successfully\n"
     ]
    }
   ],
   "source": [
    "filepath =r\"C:\\Users\\sudhir\\Desktop\\crop diesese1\\crop_model.h5\"\n",
    "model = load_model(filepath)\n",
    "print(model)\n",
    "print(\"Model Loaded Successfully\")"
   ]
  },
  {
   "cell_type": "code",
   "execution_count": 23,
   "id": "0a9c722c",
   "metadata": {},
   "outputs": [],
   "source": [
    "Corn_plant = cv2.imread(r\"C:\\Users\\sudhir\\Desktop\\crop diesese1\\training\\dataset\\test\\Healthy\\Corn_Health (67).jpg\")\n",
    "test_image = cv2.resize(Corn_plant, (256,256)) # load image"
   ]
  },
  {
   "cell_type": "code",
   "execution_count": 24,
   "id": "df4d976f",
   "metadata": {},
   "outputs": [],
   "source": [
    "test_image = img_to_array(test_image)/255 # convert image to np array and normalize\n",
    "test_image = np.expand_dims(test_image, axis = 0) # change dimention 3D to 4D"
   ]
  },
  {
   "cell_type": "code",
   "execution_count": 27,
   "id": "082cdb45",
   "metadata": {},
   "outputs": [],
   "source": [
    "result = (model.predict(test_image)) # predict diseased palnt or not\n"
   ]
  },
  {
   "cell_type": "code",
   "execution_count": 28,
   "id": "528ad628",
   "metadata": {},
   "outputs": [
    {
     "name": "stdout",
     "output_type": "stream",
     "text": [
      "[3]\n",
      "Tomato - Healthy And Fresh\n"
     ]
    }
   ],
   "source": [
    "pred = np.argmax(result, axis=1)\n",
    "print(pred)\n",
    "if pred==0:\n",
    "    print( \"Corn - Blight Disease\")\n",
    "       \n",
    "elif pred==1:\n",
    "    print(\"Corn - Common Rust Disease\")\n",
    "        \n",
    "elif pred==2:\n",
    "    print(\"Corn - Grey Leaf Spot Disease\")\n",
    "        \n",
    "elif pred==3:\n",
    "    print(\"Tomato - Healthy And Fresh\")\n",
    "       \n"
   ]
  },
  {
   "cell_type": "code",
   "execution_count": null,
   "id": "3e76e5de",
   "metadata": {},
   "outputs": [],
   "source": []
  }
 ],
 "metadata": {
  "kernelspec": {
   "display_name": "Python 3 (ipykernel)",
   "language": "python",
   "name": "python3"
  },
  "language_info": {
   "codemirror_mode": {
    "name": "ipython",
    "version": 3
   },
   "file_extension": ".py",
   "mimetype": "text/x-python",
   "name": "python",
   "nbconvert_exporter": "python",
   "pygments_lexer": "ipython3",
   "version": "3.9.7"
  }
 },
 "nbformat": 4,
 "nbformat_minor": 5
}
