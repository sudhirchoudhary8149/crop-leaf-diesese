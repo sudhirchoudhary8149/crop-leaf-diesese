{
 "cells": [
  {
   "cell_type": "code",
   "execution_count": 1,
   "id": "f0a98dd1",
   "metadata": {},
   "outputs": [],
   "source": [
    "from flask import Flask, render_template, request"
   ]
  },
  {
   "cell_type": "code",
   "execution_count": 2,
   "id": "a2b06482",
   "metadata": {},
   "outputs": [],
   "source": [
    "import numpy as np\n",
    "import os"
   ]
  },
  {
   "cell_type": "code",
   "execution_count": 3,
   "id": "bef7c592",
   "metadata": {},
   "outputs": [],
   "source": [
    "from tensorflow.keras.preprocessing.image import load_img\n",
    "from tensorflow.keras.preprocessing.image import img_to_array\n",
    "from tensorflow.keras.models import load_model"
   ]
  },
  {
   "cell_type": "code",
   "execution_count": 6,
   "id": "9e159da2",
   "metadata": {},
   "outputs": [
    {
     "name": "stdout",
     "output_type": "stream",
     "text": [
      "<keras.engine.sequential.Sequential object at 0x0000011B589CC4F0>\n",
      "Model Loaded Successfully\n"
     ]
    }
   ],
   "source": [
    "filepath =r\"C:\\Users\\sudhir\\Desktop\\crop diesese1\\crop_model.h5\"\n",
    "model = load_model(filepath)\n",
    "print(model)\n",
    "print(\"Model Loaded Successfully\")"
   ]
  },
  {
   "cell_type": "code",
   "execution_count": 8,
   "id": "77aa5d8e",
   "metadata": {},
   "outputs": [],
   "source": [
    "def pred_corn_dieas(corn_plant):\n",
    "    test_image = load_img(corn_plant, target_size = (256, 256)) # load image \n",
    "    print(\"@@ Got Image for prediction\")\n",
    "    test_image = img_to_array(test_image)/255 # convert image to np array and normalize\n",
    "    test_image = np.expand_dims(test_image, axis = 0) # change dimention 3D to 4D\n",
    "    result = model.predict(test_image) # predict diseased palnt or not\n",
    "    print('@@ Raw result = ', result)\n",
    "    pred = np.argmax(result, axis=1)\n",
    "    print(pred)\n",
    "    if pred==0:\n",
    "        return \"Corn - Blight Diesease\", 'Corn-Blight.html'\n",
    "       \n",
    "    elif pred==1:\n",
    "        return \"Corn - Common Rust Disease\", 'Corn-Common_Rust.html'\n",
    "    elif pred==2:\n",
    "        return \"Tomato - Gray Leaf Spot Disease\", 'Corn-Gray_Leaf_Spot.html'  \n",
    "\n",
    "    elif pred==3:\n",
    "        return \"Corn - Healthy and Fresh\", 'Corn-Healthy.html'\n",
    "        "
   ]
  },
  {
   "cell_type": "code",
   "execution_count": 9,
   "id": "4629803c",
   "metadata": {},
   "outputs": [],
   "source": [
    "# Create flask instance\n",
    "app = Flask(__name__)"
   ]
  },
  {
   "cell_type": "code",
   "execution_count": 10,
   "id": "913cd0ea",
   "metadata": {},
   "outputs": [],
   "source": [
    "# render index.html page\n",
    "@app.route(\"/\", methods=['GET', 'POST'])\n",
    "def home():\n",
    "        return render_template('index.html')"
   ]
  },
  {
   "cell_type": "code",
   "execution_count": 11,
   "id": "7fca76ea",
   "metadata": {},
   "outputs": [],
   "source": [
    "# get input image from client then predict class and render respective .html page for solution\n",
    "@app.route(\"/predict\", methods = ['GET','POST'])\n",
    "def predict():\n",
    "    if request.method == 'POST':\n",
    "        file = request.files['image'] # fet input\n",
    "        filename = file.filename        \n",
    "        print(\"@@ Input posted = \", filename)\n",
    "        \n",
    "        file_path = os.path.join(r\"C:\\Users\\sudhir\\Desktop\\crop diesese1\\static\\upload\", \n",
    "                                 filename)\n",
    "        file.save(file_path)\n",
    "\n",
    "        print(\"@@ Predicting class......\")\n",
    "        pred, output_page =pred_corn_dieas(corn_plant=file_path)\n",
    "              \n",
    "        return render_template(output_page, pred_output = pred, user_image = file_path)\n"
   ]
  },
  {
   "cell_type": "code",
   "execution_count": null,
   "id": "3aa22d28",
   "metadata": {},
   "outputs": [],
   "source": [
    "# For local system & cloud\n",
    "if __name__ == \"__main__\":\n",
    "    app.run(threaded=False,port=8080) "
   ]
  },
  {
   "cell_type": "code",
   "execution_count": null,
   "id": "1fafb564",
   "metadata": {},
   "outputs": [],
   "source": []
  }
 ],
 "metadata": {
  "kernelspec": {
   "display_name": "Python 3 (ipykernel)",
   "language": "python",
   "name": "python3"
  },
  "language_info": {
   "codemirror_mode": {
    "name": "ipython",
    "version": 3
   },
   "file_extension": ".py",
   "mimetype": "text/x-python",
   "name": "python",
   "nbconvert_exporter": "python",
   "pygments_lexer": "ipython3",
   "version": "3.9.7"
  }
 },
 "nbformat": 4,
 "nbformat_minor": 5
}
